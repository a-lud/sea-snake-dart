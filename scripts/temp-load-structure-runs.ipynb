{
 "cells": [
  {
   "cell_type": "code",
   "execution_count": 1,
   "metadata": {},
   "outputs": [],
   "source": [
    "import itertools\n",
    "\n",
    "import pandas as pd\n",
    "import ipyrad.analysis as ipa\n",
    "import ipyparallel as ipp\n",
    "import toyplot\n",
    "import toyplot.png"
   ]
  },
  {
   "cell_type": "code",
   "execution_count": 12,
   "metadata": {},
   "outputs": [
    {
     "name": "stdout",
     "output_type": "stream",
     "text": [
      "/scratchdata1/users/a1645424/analysis/shannon/results/ipyrad/HST-stringent_outfiles/structure\n"
     ]
    }
   ],
   "source": [
    "%cd /home/a1645424/hpcfs/analysis/shannon/results/ipyrad/HST-stringent_outfiles/structure"
   ]
  },
  {
   "cell_type": "code",
   "execution_count": 13,
   "metadata": {},
   "outputs": [],
   "source": [
    "data = \"HST-stringent.highQ.filtered.LD50k.snps.hdf5\"\n",
    "popmap = \"HST-popmap.txt\"\n",
    "\n",
    "# Burnin/nreps\n",
    "burnin = 100000\n",
    "numreps = 200000\n",
    "\n",
    "# Population-map file\n",
    "populations = pd.read_csv(popmap, comment=\"#\", sep=\" \", names=[\"sample\", \"grouping\"])\n",
    "\n",
    "# Convert to dictionary\n",
    "imap = dict(populations.groupby(\"grouping\")[\"sample\"].apply(list))\n",
    "\n",
    "# 50% missing data per population group\n",
    "minmap = {i: 0.5 for i in imap}"
   ]
  },
  {
   "cell_type": "code",
   "execution_count": 14,
   "metadata": {},
   "outputs": [
    {
     "name": "stdout",
     "output_type": "stream",
     "text": [
      "40 previous results loaded for run [HST]\n"
     ]
    },
    {
     "name": "stderr",
     "output_type": "stream",
     "text": [
      "/hpcfs/users/a1645424/micromamba/envs/ipyrad/lib/python3.10/site-packages/ipyrad/analysis/structure.py:1036: FutureWarning: Setting an item of incompatible dtype is deprecated and will raise in a future error of pandas. Value '4168.560000000012' has dtype incompatible with int64, please explicitly cast to a compatible dtype first.\n",
      "  tab.loc[kpop, \"lnPK\"] = tab.loc[kpop, \"estLnProbMean\"] \\\n",
      "/hpcfs/users/a1645424/micromamba/envs/ipyrad/lib/python3.10/site-packages/ipyrad/analysis/structure.py:1040: FutureWarning: Setting an item of incompatible dtype is deprecated and will raise in a future error of pandas. Value '1036.2400000000198' has dtype incompatible with int64, please explicitly cast to a compatible dtype first.\n",
      "  tab.loc[kpop, \"lnPPK\"] = abs(tab.loc[kpop+1, \"lnPK\"]\n",
      "/hpcfs/users/a1645424/micromamba/envs/ipyrad/lib/python3.10/site-packages/ipyrad/analysis/structure.py:1042: FutureWarning: Setting an item of incompatible dtype is deprecated and will raise in a future error of pandas. Value '0.7794347247264755' has dtype incompatible with int64, please explicitly cast to a compatible dtype first.\n",
      "  tab.loc[kpop, \"deltaK\"] = (abs(\n"
     ]
    }
   ],
   "source": [
    "rerun = ipa.structure(\n",
    "    data=data,\n",
    "    name=\"HST\",\n",
    "    workdir=\"analysis-structure\",\n",
    "    imap=imap,\n",
    "    load_only=True,\n",
    ")\n",
    "\n",
    "etable = rerun.get_evanno_table([2, 3, 4, 5, 6, 7, 8 , 9])"
   ]
  },
  {
   "cell_type": "code",
   "execution_count": 15,
   "metadata": {},
   "outputs": [],
   "source": [
    "etable.to_csv(\"./HST-etable.csv\")"
   ]
  }
 ],
 "metadata": {
  "kernelspec": {
   "display_name": "Python 3",
   "language": "python",
   "name": "python3"
  },
  "language_info": {
   "codemirror_mode": {
    "name": "ipython",
    "version": 3
   },
   "file_extension": ".py",
   "mimetype": "text/x-python",
   "name": "python",
   "nbconvert_exporter": "python",
   "pygments_lexer": "ipython3",
   "version": "3.10.12"
  }
 },
 "nbformat": 4,
 "nbformat_minor": 2
}
