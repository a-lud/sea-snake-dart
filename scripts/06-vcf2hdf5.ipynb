{
 "cells": [
  {
   "cell_type": "markdown",
   "metadata": {},
   "source": [
    "# Convert IPyrad VCF to HDF5\n",
    "\n",
    "Ipyrad analysis tools, the Python library that we're going to use for PCA and\n",
    "STRUCTURE analyses, uses a file format called HDF5. This notebook contains\n",
    "the code to convert the **raw** and **filtered** VCFs to HDF5 objects for each\n",
    "of the three species."
   ]
  },
  {
   "cell_type": "code",
   "execution_count": 2,
   "metadata": {},
   "outputs": [],
   "source": [
    "# Load the python library\n",
    "import ipyrad.analysis as ipa"
   ]
  },
  {
   "cell_type": "markdown",
   "metadata": {},
   "source": [
    "## *Aipysurus laevis*"
   ]
  },
  {
   "cell_type": "code",
   "execution_count": 6,
   "metadata": {},
   "outputs": [
    {
     "name": "stdout",
     "output_type": "stream",
     "text": [
      "Indexing VCF to HDF5 database file\n",
      "hdf5 file exists. Use `force=True` to overwrite.\n"
     ]
    }
   ],
   "source": [
    "# Unfiltered Ipyrad output\n",
    "converter = ipa.vcf_to_hdf5(\n",
    "    name=\"ALA-stringent.LD50k\",\n",
    "    data=\"../results/ipyrad/ALA-stringent_outfiles/ALA-stringent.vcf.gz\",\n",
    "    workdir='../results/ipyrad/ALA-stringent_outfiles/',\n",
    "    ld_block_size=50000\n",
    ")\n",
    "\n",
    "# run the converter\n",
    "converter.run()"
   ]
  },
  {
   "cell_type": "code",
   "execution_count": 7,
   "metadata": {},
   "outputs": [
    {
     "name": "stdout",
     "output_type": "stream",
     "text": [
      "Indexing VCF to HDF5 database file\n",
      "hdf5 file exists. Use `force=True` to overwrite.\n"
     ]
    }
   ],
   "source": [
    "# Filtered Ipyrad output\n",
    "converter = ipa.vcf_to_hdf5(\n",
    "    name=\"ALA-stringent.highQ.filtered.LD50k\",\n",
    "    data=\"../results/ipyrad/ALA-stringent_outfiles/ALA-stringent.highQ.filtered.vcf.gz\",\n",
    "    workdir='../results/ipyrad/ALA-stringent_outfiles/',\n",
    "    ld_block_size=50000\n",
    ")\n",
    "\n",
    "# run the converter\n",
    "converter.run()"
   ]
  },
  {
   "cell_type": "markdown",
   "metadata": {},
   "source": [
    "## *Hydrophis major*"
   ]
  },
  {
   "cell_type": "code",
   "execution_count": null,
   "metadata": {},
   "outputs": [
    {
     "name": "stdout",
     "output_type": "stream",
     "text": [
      "Indexing VCF to HDF5 database file\n",
      "VCF: 52666 SNPs; 115 scaffolds\n",
      "[####################] 100% 0:00:20 | converting VCF to HDF5 \n",
      "HDF5: 52666 SNPs; 12739 linkage group\n",
      "SNP database written to /home/a1645424/hpcfs/analysis/shannon/results/ipyrad/HMA-stringent_outfiles/HMA-stringent.LD50k.snps.hdf5\n"
     ]
    }
   ],
   "source": [
    "# Unfiltered Ipyrad output\n",
    "converter = ipa.vcf_to_hdf5(\n",
    "    name=\"HMA-stringent.LD50k\",\n",
    "    data=\"../results/ipyrad/HMA-stringent_outfiles/HMA-stringent.vcf.gz\",\n",
    "    workdir='../results/ipyrad/HMA-stringent_outfiles/',\n",
    "    ld_block_size=50000\n",
    ")\n",
    "\n",
    "# run the converter\n",
    "converter.run()"
   ]
  },
  {
   "cell_type": "code",
   "execution_count": null,
   "metadata": {},
   "outputs": [
    {
     "name": "stdout",
     "output_type": "stream",
     "text": [
      "Indexing VCF to HDF5 database file\n",
      "hdf5 file exists. Use `force=True` to overwrite.\n"
     ]
    }
   ],
   "source": [
    "# Filtered Ipyrad output\n",
    "converter = ipa.vcf_to_hdf5(\n",
    "    name=\"HMA-stringent.highQ.filtered.LD50k\",\n",
    "    data=\"../results/ipyrad/HMA-stringent_outfiles/HMA-stringent.highQ.filtered.vcf.gz\",\n",
    "    workdir='../results/ipyrad/HMA-stringent_outfiles/',\n",
    "    ld_block_size=50000\n",
    ")\n",
    "\n",
    "# run the converter\n",
    "converter.run()"
   ]
  },
  {
   "cell_type": "markdown",
   "metadata": {},
   "source": [
    "## *Hydrophis stokesii*"
   ]
  },
  {
   "cell_type": "code",
   "execution_count": null,
   "metadata": {},
   "outputs": [
    {
     "name": "stdout",
     "output_type": "stream",
     "text": [
      "Indexing VCF to HDF5 database file\n",
      "VCF: 90080 SNPs; 121 scaffolds\n",
      "[####################] 100% 0:00:29 | converting VCF to HDF5 \n",
      "HDF5: 90080 SNPs; 16012 linkage group\n",
      "SNP database written to /home/a1645424/hpcfs/analysis/shannon/results/ipyrad/HST-stringent_outfiles/HST-stringent.LD50k.snps.hdf5\n"
     ]
    }
   ],
   "source": [
    "# Unfiltered Ipyrad output\n",
    "converter = ipa.vcf_to_hdf5(\n",
    "    name=\"HST-stringent.LD50k\",\n",
    "    data=\"../results/ipyrad/HST-stringent_outfiles/HST-stringent.vcf.gz\",\n",
    "    workdir='../results/ipyrad/HST-stringent_outfiles/',\n",
    "    ld_block_size=50000\n",
    ")\n",
    "\n",
    "# run the converter\n",
    "converter.run()"
   ]
  },
  {
   "cell_type": "code",
   "execution_count": null,
   "metadata": {},
   "outputs": [
    {
     "name": "stdout",
     "output_type": "stream",
     "text": [
      "Indexing VCF to HDF5 database file\n",
      "VCF: 14737 SNPs; 49 scaffolds\n",
      "[####################] 100% 0:00:12 | converting VCF to HDF5 \n",
      "HDF5: 14737 SNPs; 3986 linkage group\n",
      "SNP database written to /home/a1645424/hpcfs/analysis/shannon/results/ipyrad/HST-stringent_outfiles/HST-stringent.highQ.filtered.LD50k.snps.hdf5\n"
     ]
    }
   ],
   "source": [
    "# Filtered Ipyrad output\n",
    "converter = ipa.vcf_to_hdf5(\n",
    "    name=\"HST-stringent.highQ.filtered.LD50k\",\n",
    "    data=\"../results/ipyrad/HST-stringent_outfiles/HST-stringent.highQ.filtered.vcf.gz\",\n",
    "    workdir='../results/ipyrad/HST-stringent_outfiles/',\n",
    "    ld_block_size=50000\n",
    ")\n",
    "\n",
    "# run the converter\n",
    "converter.run()"
   ]
  }
 ],
 "metadata": {
  "kernelspec": {
   "display_name": "Python 3",
   "language": "python",
   "name": "python3"
  },
  "language_info": {
   "codemirror_mode": {
    "name": "ipython",
    "version": 3
   },
   "file_extension": ".py",
   "mimetype": "text/x-python",
   "name": "python",
   "nbconvert_exporter": "python",
   "pygments_lexer": "ipython3",
   "version": "3.10.12"
  }
 },
 "nbformat": 4,
 "nbformat_minor": 2
}
